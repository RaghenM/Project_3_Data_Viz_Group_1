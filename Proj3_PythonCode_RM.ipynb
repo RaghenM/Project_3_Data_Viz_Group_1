{
 "cells": [
  {
   "cell_type": "code",
   "execution_count": null,
   "id": "87ae8b96-8524-4df1-8ba2-1ce13f8fa1df",
   "metadata": {},
   "outputs": [],
   "source": [
    "# Dependencies\n",
    "import pandas as pd\n",
    "from pathlib import Path\n",
    "import time\n",
    "# used for interactive mapping \n",
    "import geopandas\n",
    "import folium"
   ]
  },
  {
   "cell_type": "markdown",
   "id": "de266728",
   "metadata": {},
   "source": [
    ">### <font color=darkblue>Import, Clean, & Narrow Station Data to Electric (ELEC) Stations only </font>\n",
    "***\n",
    "__Cleaned some of the data in CSV prior to import by removing unwanted columns__\n",
    "  \n",
    "- __Query Parameters:__\r",
    "1. _Passenger vehicles (class 1-2)_\n",
    "2. _US only stations_\n",
    "3. _Station is status 'Available'_\n",
    "4. _Fuel Types (Biodiesel, Electric, Ethanol (E85), Renewable Diesel)_\n",
    "5. _Station is 'public'_ic\r\n",
    "\n",
    "\n"
   ]
  },
  {
   "cell_type": "code",
   "execution_count": null,
   "id": "a92fbabe",
   "metadata": {},
   "outputs": [],
   "source": [
    "# Name of the Cleaned Station CSV file and read it in\n",
    "\n",
    "US_stations_df = pd.read_csv('Resources/Cleaned_all_US_fuel_stations_1-28-RM.csv', encoding= 'ISO-8859-1')\n"
   ]
  },
  {
   "cell_type": "code",
   "execution_count": null,
   "id": "981b6078-ca0e-48d4-b5e0-1d70e6fec270",
   "metadata": {},
   "outputs": [],
   "source": [
    "# review US_stations df\n",
    "US_stations_df.head(2)"
   ]
  },
  {
   "cell_type": "code",
   "execution_count": null,
   "id": "2aff159a-faa2-443a-acd9-d9fddd8bb16f",
   "metadata": {},
   "outputs": [],
   "source": [
    "# rename fuel type column, access_days_time, & station charging levels, cards_accepted \n",
    "\n",
    "renamed_US_stations_df = US_stations_df.rename(columns={\"ï»¿Fuel _Type_Code\": \"Fuel_Type\", \"Access_Days_Time\": \"Business_Hours\", \"EV_Level1_EVSE_Num\": \"Count_Level_1\",\"EV_Level2_EVSE_Num\": \"Count_Level_2\", \"EV_DC_Fast_Count\": \"Count_DC_Fast\", \"Cards_Accepted\": \"Payment\"})\n",
    "renamed_US_stations_df.head(2)"
   ]
  },
  {
   "cell_type": "code",
   "execution_count": null,
   "id": "5d2b85dd-fbaa-4620-a9cf-36ef700a9d1f",
   "metadata": {},
   "outputs": [],
   "source": [
    "# review data types in the df \n",
    "renamed_US_stations_df.dtypes"
   ]
  },
  {
   "cell_type": "code",
   "execution_count": null,
   "id": "dda78fca-625d-422e-96d8-02b8a79525cd",
   "metadata": {},
   "outputs": [],
   "source": [
    "# use value_counts() to count occurrences of 'Fuel_Types' (Biodiesel, Ele, Ethanol (E85), Renewable Diesel)\n",
    "\n",
    "# Biodiesel ('BD')\n",
    "count = renamed_US_stations_df['Fuel_Type'].value_counts()['BD']\n",
    "\n",
    "print(f\"The number stations for fuel type Biodiesel: {count}\")\n",
    "\n",
    "# Electic ('ELEC')\n",
    "count = renamed_US_stations_df['Fuel_Type'].value_counts()['ELEC']\n",
    "\n",
    "print(f\"The number stations for fuel type Electric: {count}\")\n",
    "\n",
    "# Ethanol ('E85')\n",
    "count = renamed_US_stations_df['Fuel_Type'].value_counts()['E85']\n",
    "\n",
    "print(f\"The number stations for fuel type Ethanol 85: {count}\")\n",
    "\n",
    "\n",
    "# Renewable Diesel ('RD')\n",
    "count = renamed_US_stations_df['Fuel_Type'].value_counts()['RD']\n",
    "\n",
    "print(f\"The number stations for fuel type Renewable Diesel: {count}\")\n"
   ]
  },
  {
   "cell_type": "code",
   "execution_count": null,
   "id": "c063b223-728c-4179-afef-d416a0a1dd67",
   "metadata": {},
   "outputs": [],
   "source": [
    "#filter the df to only Electric stations \n",
    "ELEC_Stations_in_USA = renamed_US_stations_df.loc[(renamed_US_stations_df.Fuel_Type == \"ELEC\")]\n",
    "\n",
    "#print ELEC Stations only DF\n",
    "ELEC_Stations_in_USA.head()"
   ]
  },
  {
   "cell_type": "code",
   "execution_count": null,
   "id": "6dbebecf-0472-4766-8b56-1adfd8100862",
   "metadata": {},
   "outputs": [],
   "source": [
    "#count of rows in the elec stations df, to ensure I got all the electric stations \n",
    "\n",
    "len(ELEC_Stations_in_USA)"
   ]
  },
  {
   "cell_type": "markdown",
   "id": "0d08275e-d7e2-41b0-9002-57460072c1f8",
   "metadata": {},
   "source": [
    ">### <font color=darkblue>RAGHEN- Create layer of makers for only DC fast stations on Choropleth of all Electric Stations in the US </font>\n",
    "***\n",
    "- Marker Hover Info: station name, address, phone, facility type, business hours\n",
    "- should be able to turn markers on and off in the legend\n"
   ]
  },
  {
   "cell_type": "code",
   "execution_count": null,
   "id": "13e95606-69da-4118-bd4f-dd4cac6a4d18",
   "metadata": {},
   "outputs": [],
   "source": [
    "# refresher on the df info\n",
    "ELEC_Stations_in_USA.head(2)"
   ]
  },
  {
   "cell_type": "code",
   "execution_count": null,
   "id": "4f64f58b-4544-481c-b7b1-f6365a80037e",
   "metadata": {},
   "outputs": [],
   "source": [
    "# Make my df to add markers and hover- narrow df to only have stations with DC fast chargers \n",
    "\n",
    "#drop columns- payment, level 1, level 2,country, geo_code etc.)\n",
    "\n",
    "new_DC_Fast_df= ELEC_Stations_in_USA.drop(['Payment', 'Count_Level_1', 'Count_Level_2', 'E85_Other_Ethanol_Blends', 'Country', 'Geocode_Status', 'EV_Connector_Types' ], axis=1)\n",
    "\n",
    "new_DC_Fast_df.head()"
   ]
  },
  {
   "cell_type": "code",
   "execution_count": null,
   "id": "bb1d7ccb-13a3-494f-aacb-e0f19ba27ddf",
   "metadata": {},
   "outputs": [],
   "source": [
    "len(new_DC_Fast_df)"
   ]
  },
  {
   "cell_type": "code",
   "execution_count": null,
   "id": "35d24189-6d7a-4cb3-b261-69c5e56fedb2",
   "metadata": {},
   "outputs": [],
   "source": [
    "# Ensure there are no null values for DC Fast- drop null values from DC Fast column\n",
    "\n",
    "new_DC_Fast_df.dropna(subset=['Count_DC_Fast'], inplace=True)"
   ]
  },
  {
   "cell_type": "code",
   "execution_count": null,
   "id": "60a5b11d-52cd-4a8d-b083-d66ecc2e0a3f",
   "metadata": {},
   "outputs": [],
   "source": [
    "len(new_DC_Fast_df)"
   ]
  },
  {
   "cell_type": "code",
   "execution_count": null,
   "id": "55827816-a5f4-43af-b085-0a14838e74ed",
   "metadata": {},
   "outputs": [],
   "source": [
    "# Reindex to update to more logical column order\n",
    "new_DC_Fast_df = new_DC_Fast_df.reindex(columns=['Fuel_Type', 'Station_Name','Facility_Type', 'Street_Address',\t'City',\t'State', 'ZIP', 'Station_Phone', 'Business_Hours','Count_DC_Fast','Latitude', 'Longitude'])\n",
    "new_DC_Fast_df.head(2)"
   ]
  },
  {
   "cell_type": "code",
   "execution_count": null,
   "id": "1190dd03-c03c-4b55-ba89-9886195ac1c2",
   "metadata": {},
   "outputs": [],
   "source": [
    "# Converting 'Facility_Type', 'Business_Hours', 'Station_Phone' to string\n",
    "new_DC_Fast_df[['Facility_Type', 'Business_Hours', 'Station_Phone']] = new_DC_Fast_df[['Facility_Type', 'Business_Hours', 'Station_Phone']].astype(str)\n",
    "# Displaying the types of data after conversion\n",
    "print(\"\\nTypes of data after conversion:\\n\", new_DC_Fast_df.dtypes)"
   ]
  },
  {
   "cell_type": "code",
   "execution_count": null,
   "id": "c52e02cf-cfe9-439c-9c3e-612b7f018e3c",
   "metadata": {},
   "outputs": [],
   "source": [
    "# use value_counts to count occurrences of 'DC-Fast Stations\" per sate\n",
    "new_DC_Fast_df['State'].value_counts()"
   ]
  },
  {
   "cell_type": "code",
   "execution_count": null,
   "id": "9326102b-a43d-456d-98bc-225bf93d91e9",
   "metadata": {},
   "outputs": [],
   "source": [
    "# Groupby: Group the DC-Fast Stations by State \n",
    "grouped_DC_Fast_df = new_DC_Fast_df.groupby([\"State\"], as_index= True) \n"
   ]
  },
  {
   "cell_type": "code",
   "execution_count": null,
   "id": "f5fc8f1f-683d-4d76-ae73-84f16c5648cc",
   "metadata": {},
   "outputs": [],
   "source": [
    "# Calculate the sum of DC-Fast station ports per state \n",
    "Sum_of_DC_Fast_Stations = grouped_DC_Fast_df[\"Count_DC_Fast\"].sum()\n",
    "\n",
    "# Assemble into DataFrame\n",
    "DC_Fast_summary_df = pd.DataFrame({\n",
    "    \"Count_DC_Fast\":Sum_of_DC_Fast_Stations})\n",
    "\n",
    "\n",
    "# Display results\n",
    "DC_Fast_summary_df\n"
   ]
  },
  {
   "cell_type": "code",
   "execution_count": null,
   "id": "468d6443-c624-49e4-94f3-3ab0c290b3f7",
   "metadata": {},
   "outputs": [],
   "source": [
    "# find maximum and minimum value of station DC-Fast ports\n",
    "\n",
    "#find the max ports by state\n",
    "max_ports = DC_Fast_summary_df['Count_DC_Fast'].max() \n",
    "max_ports_index = DC_Fast_summary_df['Count_DC_Fast'].idxmax() \n",
    "print (f\"The max port count is {max_ports} and occurs in the state of {max_ports_index}\")\n",
    "\n",
    "#find the min ports by state\n",
    "min_ports= DC_Fast_summary_df['Count_DC_Fast'].min()\n",
    "min_ports_index = DC_Fast_summary_df['Count_DC_Fast'].idxmin()\n",
    "print (f\"The min port count is {min_ports} and occurs in the state of {min_ports_index}\")\n",
    "\n"
   ]
  },
  {
   "cell_type": "code",
   "execution_count": null,
   "id": "03df7000-430a-4256-9fe7-0e9acc76a6ea",
   "metadata": {},
   "outputs": [],
   "source": [
    "#create the base map using a central location around Montana, OpenStreetMap, and zoom of 3\n",
    "\n",
    "base_map = folium.Map(location=[48, -102], tiles='OpenStreetMap',\\\n",
    "                      zoom_start=4)\n",
    "\n",
    "#base_map"
   ]
  },
  {
   "cell_type": "code",
   "execution_count": null,
   "id": "26f478a0-021e-4a3f-a937-78caa59353b4",
   "metadata": {},
   "outputs": [],
   "source": [
    "# loop through the DataFrame to read the longitudinal and latitudinal values from the columns df[‘Longitude’] and df[‘Latitude’]\n",
    "\n",
    "for i, row in new_DC_Fast_df.iterrows():\n",
    "    lat = new_DC_Fast_df.at[i, 'Latitude']\n",
    "    lng = new_DC_Fast_df.at[i, 'Longitude']\n"
   ]
  },
  {
   "cell_type": "code",
   "execution_count": null,
   "id": "9cc1133b-0f89-46ee-ac69-f0d260e3e040",
   "metadata": {},
   "outputs": [],
   "source": [
    "# We will also create a pop-up to show the station name, facility type, business hours, address, phone within the loop.\n",
    "\n",
    "#just station name to see if it works\n",
    "popup = 'Station : ' + str(new_DC_Fast_df.at[i, 'Station_Name'])  \n"
   ]
  },
  {
   "cell_type": "code",
   "execution_count": null,
   "id": "f1c1cdbe-f6c5-4182-af10-06621abbbc18",
   "metadata": {},
   "outputs": [],
   "source": [
    "# Withing the loop, pass the latitude and longitude values to the location variable, popup details, and folium icon details\n",
    "\n",
    "#create map\n",
    "base_map = folium.Map(location=[48, -102], tiles='OpenStreetMap', zoom_start=4)\n",
    "\n",
    "#loop to get lat and lng values\n",
    "for i, row in new_DC_Fast_df.iterrows():\n",
    "    lat = new_DC_Fast_df.at[i, 'Latitude']\n",
    "    lng = new_DC_Fast_df.at[i, 'Longitude']\n",
    "    \n",
    "    #hover state (station name, address, facility type, phone, hours)\n",
    "    popup = 'Station : ' + str(new_DC_Fast_df.at[i, 'Station_Name']) + '<br>' + '<br>' +'Address: ' + new_DC_Fast_df.at[i, 'Street_Address'] + '<br>' + '<br>' +'Facility Type: ' + new_DC_Fast_df.at[i, 'Facility_Type']\\\n",
    "    + '<br>' + '<br>' +'Phone: ' + new_DC_Fast_df.at[i, 'Station_Phone'] + '<br>' + '<br>' +'Business Hours: ' + new_DC_Fast_df.at[i, 'Business_Hours']\n",
    "    \n",
    "    #add info to map and define the incon\n",
    "    #https://fontawesome.com/icons?d=gallery for charging station icon\n",
    "    #use with: prefix='fa'\n",
    "    folium.Marker(location = [lat, lng], popup= popup, icon = folium.Icon(color='black', prefix='fa', icon='charging-station')).add_to(base_map)\n",
    "\n",
    "#save as html file\n",
    "base_map.save('DC_fast_Locations.html')\n",
    "#base_map\n",
    "\n",
    "\n"
   ]
  },
  {
   "cell_type": "markdown",
   "id": "25379e04-da0e-45e5-be4d-858a5f51821a",
   "metadata": {},
   "source": [
    ">### <font color=darkblue>RAGHEN- Add US Average Winter Temps by State </font>\n",
    "***\n",
    "- add this data so that I can make Choropleth to then layer"
   ]
  },
  {
   "cell_type": "code",
   "execution_count": null,
   "id": "7b596e78-d208-4472-a4f1-62861ea4592a",
   "metadata": {},
   "outputs": [],
   "source": [
    "#import weather data file \n",
    "US_winter_temp_df = pd.read_csv('Resources/US_Average_Winter_Temps_F_c.csv')\n"
   ]
  },
  {
   "cell_type": "code",
   "execution_count": null,
   "id": "e8ac81d7-800b-4527-b19e-4310b91c5d20",
   "metadata": {},
   "outputs": [],
   "source": [
    "#take a look at the import \n",
    "US_winter_temp_df.head()\n"
   ]
  },
  {
   "cell_type": "code",
   "execution_count": null,
   "id": "a4b458d6-2d00-4d73-a316-31d16450ec3b",
   "metadata": {},
   "outputs": [],
   "source": [
    "#pip install geodatasets"
   ]
  },
  {
   "cell_type": "code",
   "execution_count": null,
   "id": "86437a40-21cd-4039-aa7b-b7ab515bfa85",
   "metadata": {},
   "outputs": [],
   "source": [
    "import geodatasets\n"
   ]
  },
  {
   "cell_type": "code",
   "execution_count": null,
   "id": "f1988c63-d9de-43de-8dea-2c2f0bca70dc",
   "metadata": {},
   "outputs": [],
   "source": [
    "import geopandas as gpd\n",
    "usmap_gdf = gpd.read_file('Resources/multipoly/cb_2018_us_state_500k.shp')"
   ]
  },
  {
   "cell_type": "code",
   "execution_count": null,
   "id": "2421f864-7476-4b52-a3ff-049055cca8f5",
   "metadata": {},
   "outputs": [],
   "source": [
    "usmap_gdf.head()"
   ]
  },
  {
   "cell_type": "code",
   "execution_count": null,
   "id": "41064b58-e219-4f46-94ed-82efe4583728",
   "metadata": {},
   "outputs": [],
   "source": [
    "# Rename US_winter_temp_df \"State\" column to Name so that so they can be merged \n",
    "\n",
    "#rename column \"State\" to \"Name\"\n",
    "renamed_for_merge_US_winter_temp = US_winter_temp_df.rename(columns={\"State\": \"NAME\"})\n",
    "renamed_for_merge_US_winter_temp.head()"
   ]
  },
  {
   "cell_type": "code",
   "execution_count": null,
   "id": "01e3f317-408d-4575-8d51-ef60b109203e",
   "metadata": {},
   "outputs": [],
   "source": [
    "#do the merge to pull together temps and the geometry in one df\n",
    "\n",
    "merged_FINAL = usmap_gdf.merge(renamed_for_merge_US_winter_temp, left_on='NAME',right_on='NAME')\n",
    "merged_FINAL.head()\n"
   ]
  },
  {
   "cell_type": "code",
   "execution_count": null,
   "id": "7d56134f-13ea-441c-a3bf-56f1392f75e5",
   "metadata": {},
   "outputs": [],
   "source": [
    "#check to see if number of rows is correct post merge \n",
    "len(merged_FINAL)"
   ]
  },
  {
   "cell_type": "code",
   "execution_count": null,
   "id": "b9bc29fa-f38d-4c78-93ab-0fdbd7342a30",
   "metadata": {},
   "outputs": [],
   "source": [
    "#view merged DF\n",
    "#merged_FINAL.plot()"
   ]
  },
  {
   "cell_type": "code",
   "execution_count": null,
   "id": "7bf534c2-4000-4152-be49-c4c2847c4661",
   "metadata": {},
   "outputs": [],
   "source": [
    "#Creating maps for interactive exploration mirrors the API of static plots in an explore() method \n",
    "#of a GeoSeries or GeoDataFrame.\n",
    "#merged_FINAL.explore()\n"
   ]
  },
  {
   "cell_type": "code",
   "execution_count": null,
   "id": "0e61e3c0-c0fe-4d41-b7d9-b4dee3dfbd55",
   "metadata": {},
   "outputs": [],
   "source": [
    "#add the data for the interactive choropleth\n",
    "merged_FINAL.explore(\n",
    "    # make choropleth based on avg temp values (F)\n",
    "    column=\"Avg ° F\",  \n",
    "    \n",
    "    # use mapclassify's natural breaks scheme\n",
    "    scheme=\"naturalbreaks\",\n",
    "    \n",
    "    # show legend\n",
    "    legend=True,  \n",
    "    \n",
    "    # use 8 bins\n",
    "    k=8, \n",
    "    \n",
    "    # hide tooltip bc it will be layered and we added a pop up below that will make the user click to see temp value\n",
    "    tooltip=False, \n",
    "    \n",
    "    #pop up on click to show state temp \n",
    "    popup=[\"NAME\", \"Avg ° F\", \"Avg ° C\"], \n",
    "    \n",
    "     # do not use colorbar\n",
    "    legend_kwds=dict(colorbar=False), \n",
    "    \n",
    "    # name of the layer in the map\n",
    "    name=\"US_Avg_Winter_Temps\",  \n",
    " \n",
    ")"
   ]
  },
  {
   "cell_type": "code",
   "execution_count": null,
   "id": "bcad9695-ac06-46b1-a2ea-9897c471177d",
   "metadata": {},
   "outputs": [],
   "source": [
    "#layer the marker on the Choropleth \n",
    "\n",
    "m= merged_FINAL.explore(\n",
    "  \n",
    "    # make choropleth based on avg temp values (F)\n",
    "    column=\"Avg ° F\",  \n",
    "    \n",
    "    # use mapclassify's natural breaks scheme\n",
    "    scheme=\"naturalbreaks\",\n",
    "    \n",
    "    # show legend\n",
    "    legend=True,  \n",
    "    \n",
    "    # use 8 bins\n",
    "    k=8, \n",
    "    \n",
    "    # hide tooltip bc it will be layered and we added a pop up below that will make the user click to see temp value\n",
    "    tooltip=False, \n",
    "    \n",
    "    #pop up on click to show state temp \n",
    "    popup=[\"NAME\", \"Avg ° F\", \"Avg ° C\"], \n",
    "    \n",
    "     # do not use colorbar\n",
    "    legend_kwds=dict(colorbar=False), \n",
    "    \n",
    "    # name of the layer in the map\n",
    "    name=\"US States Avg Winter Temps\",  \n",
    " \n",
    ")\n",
    "\n",
    "#markers added on the the choropleth map \n",
    "fg= folium.FeatureGroup(name= \"Stations\",overlay= True).add_to(m)\n",
    "#loop to get lat and lng values\n",
    "for i, row in new_DC_Fast_df.iterrows():\n",
    "    lat = new_DC_Fast_df.at[i, 'Latitude']\n",
    "    lng = new_DC_Fast_df.at[i, 'Longitude']\n",
    "    \n",
    "    #hover state (station name, address, facility type, phone, hours)\n",
    "    popup = 'Station : ' + str(new_DC_Fast_df.at[i, 'Station_Name']) + '<br>' + '<br>' +'Address: ' + new_DC_Fast_df.at[i, 'Street_Address'] + '<br>' + '<br>' +'Facility Type: ' + new_DC_Fast_df.at[i, 'Facility_Type']\\\n",
    "    + '<br>' + '<br>' +'Phone: ' + new_DC_Fast_df.at[i, 'Station_Phone'] + '<br>' + '<br>' +'Business Hours: ' + new_DC_Fast_df.at[i, 'Business_Hours']\n",
    "\n",
    "   \n",
    "    #add info to map and define the incon\n",
    "    #https://fontawesome.com/icons?d=gallery for charging station icon\n",
    "    #use with: prefix='fa'\n",
    "    folium.Marker(location = [lat, lng], popup= popup, icon = folium.Icon(color='black', prefix='fa', icon='charging-station')).add_to(fg)\n",
    "\n",
    "\n",
    "folium.TileLayer('CartoDB positron', show=True).add_to(\n",
    "    m\n",
    ")  # use folium to add alternative tiles\n",
    "folium.LayerControl().add_to(m)  # use folium to add layer control\n",
    "\n",
    "m  # show map\n",
    "\n"
   ]
  },
  {
   "cell_type": "code",
   "execution_count": null,
   "id": "81a93c5b-cc68-403d-9fe5-9079071f042d",
   "metadata": {},
   "outputs": [],
   "source": [
    "#save as html file\n",
    "m.save('Final_Layered_Map.html')"
   ]
  },
  {
   "cell_type": "code",
   "execution_count": null,
   "id": "076da926-897f-449e-81c9-ebb88324de7a",
   "metadata": {},
   "outputs": [],
   "source": []
  }
 ],
 "metadata": {
  "kernelspec": {
   "display_name": "Python 3 (ipykernel)",
   "language": "python",
   "name": "python3"
  },
  "language_info": {
   "codemirror_mode": {
    "name": "ipython",
    "version": 3
   },
   "file_extension": ".py",
   "mimetype": "text/x-python",
   "name": "python",
   "nbconvert_exporter": "python",
   "pygments_lexer": "ipython3",
   "version": "3.11.5"
  }
 },
 "nbformat": 4,
 "nbformat_minor": 5
}
